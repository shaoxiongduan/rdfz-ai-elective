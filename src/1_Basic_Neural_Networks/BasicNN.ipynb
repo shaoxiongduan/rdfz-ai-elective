{
 "cells": [
  {
   "cell_type": "code",
   "execution_count": 13,
   "metadata": {},
   "outputs": [
    {
     "name": "stdout",
     "output_type": "stream",
     "text": [
      "Requirement already satisfied: torch in /Users/Shared/anaconda3/lib/python3.9/site-packages (2.3.0.dev20240312)\n",
      "Requirement already satisfied: torchvision in /Users/Shared/anaconda3/lib/python3.9/site-packages (0.18.0.dev20240312)\n",
      "Requirement already satisfied: numpy in /Users/Shared/anaconda3/lib/python3.9/site-packages (1.24.4)\n",
      "Requirement already satisfied: matplotlib in /Users/Shared/anaconda3/lib/python3.9/site-packages (3.8.0)\n",
      "Requirement already satisfied: tk in /Users/Shared/anaconda3/lib/python3.9/site-packages (0.1.0)\n",
      "Requirement already satisfied: filelock in /Users/Shared/anaconda3/lib/python3.9/site-packages (from torch) (3.13.1)\n",
      "Requirement already satisfied: typing-extensions>=4.8.0 in /Users/Shared/anaconda3/lib/python3.9/site-packages (from torch) (4.9.0)\n",
      "Requirement already satisfied: sympy in /Users/Shared/anaconda3/lib/python3.9/site-packages (from torch) (1.12)\n",
      "Requirement already satisfied: networkx in /Users/Shared/anaconda3/lib/python3.9/site-packages (from torch) (3.1)\n",
      "Requirement already satisfied: jinja2 in /Users/Shared/anaconda3/lib/python3.9/site-packages (from torch) (3.1.3)\n",
      "Requirement already satisfied: fsspec in /Users/Shared/anaconda3/lib/python3.9/site-packages (from torch) (2023.10.0)\n",
      "Requirement already satisfied: pillow!=8.3.*,>=5.3.0 in /Users/Shared/anaconda3/lib/python3.9/site-packages (from torchvision) (10.2.0)\n",
      "Requirement already satisfied: contourpy>=1.0.1 in /Users/Shared/anaconda3/lib/python3.9/site-packages (from matplotlib) (1.2.0)\n",
      "Requirement already satisfied: cycler>=0.10 in /Users/Shared/anaconda3/lib/python3.9/site-packages (from matplotlib) (0.11.0)\n",
      "Requirement already satisfied: fonttools>=4.22.0 in /Users/Shared/anaconda3/lib/python3.9/site-packages (from matplotlib) (4.25.0)\n",
      "Requirement already satisfied: kiwisolver>=1.0.1 in /Users/Shared/anaconda3/lib/python3.9/site-packages (from matplotlib) (1.4.4)\n",
      "Requirement already satisfied: packaging>=20.0 in /Users/Shared/anaconda3/lib/python3.9/site-packages (from matplotlib) (23.1)\n",
      "Requirement already satisfied: pyparsing>=2.3.1 in /Users/Shared/anaconda3/lib/python3.9/site-packages (from matplotlib) (3.0.9)\n",
      "Requirement already satisfied: python-dateutil>=2.7 in /Users/Shared/anaconda3/lib/python3.9/site-packages (from matplotlib) (2.8.2)\n",
      "Requirement already satisfied: importlib-resources>=3.2.0 in /Users/Shared/anaconda3/lib/python3.9/site-packages (from matplotlib) (6.1.1)\n",
      "Requirement already satisfied: zipp>=3.1.0 in /Users/Shared/anaconda3/lib/python3.9/site-packages (from importlib-resources>=3.2.0->matplotlib) (3.17.0)\n",
      "Requirement already satisfied: six>=1.5 in /Users/Shared/anaconda3/lib/python3.9/site-packages (from python-dateutil>=2.7->matplotlib) (1.16.0)\n",
      "Requirement already satisfied: MarkupSafe>=2.0 in /Users/Shared/anaconda3/lib/python3.9/site-packages (from jinja2->torch) (2.1.3)\n",
      "Requirement already satisfied: mpmath>=0.19 in /Users/Shared/anaconda3/lib/python3.9/site-packages (from sympy->torch) (1.3.0)\n",
      "\u001b[33mWARNING: Error parsing dependencies of colab: Expected matching RIGHT_PARENTHESIS for LEFT_PARENTHESIS, after version specifier\n",
      "    pytz (>=2011n)\n",
      "         ~~~~~~~^\u001b[0m\u001b[33m\n",
      "\u001b[0m"
     ]
    }
   ],
   "source": [
    "!pip3 install torch torchvision numpy matplotlib tk"
   ]
  },
  {
   "cell_type": "code",
   "execution_count": 14,
   "metadata": {},
   "outputs": [],
   "source": [
    "import torch\n",
    "import torch.nn as nn\n",
    "from torch.utils.data import DataLoader,Dataset\n",
    "import torchvision.transforms as T\n",
    "import os\n",
    "import gzip\n",
    "import numpy as np\n",
    "import matplotlib.pyplot as plt\n",
    "from pathlib import Path\n",
    "import os\n",
    "\n",
    "project_dir = str(Path().resolve().parent.parent)"
   ]
  },
  {
   "cell_type": "code",
   "execution_count": 15,
   "metadata": {},
   "outputs": [],
   "source": [
    "class MNISTDataset(Dataset):\n",
    "    def __init__(self,datadir,transform,is_train = True):\n",
    "        super().__init__()\n",
    "        self.datadir = datadir\n",
    "        self.img,self.label = self.load_data(self.datadir, is_train = is_train)\n",
    "        self.len_data = len(self.img)\n",
    "        self.transform = transform\n",
    "        \n",
    "    def __getitem__(self,index):\n",
    "        return self.transform(self.img[index]), self.label[index]\n",
    "    \n",
    "    def __len__(self):\n",
    "        return self.len_data\n",
    "    \n",
    "    def load_data(self, datadir, is_train):\n",
    "        dirname = os.path.join(datadir)\n",
    "        files = ['train-labels-idx1-ubyte.gz', 'train-images-idx3-ubyte.gz',\n",
    "            't10k-labels-idx1-ubyte.gz', 't10k-images-idx3-ubyte.gz']\n",
    "\n",
    "        paths = []\n",
    "        for fname in files:\n",
    "            paths.append(os.path.join(dirname,fname))\n",
    "        if is_train:\n",
    "\n",
    "            with gzip.open(paths[0], 'rb') as lbpath:\n",
    "                label = np.frombuffer(lbpath.read(), np.uint8, offset=8)\n",
    "            with gzip.open(paths[1], 'rb') as imgpath:\n",
    "                img = np.frombuffer(imgpath.read(), np.uint8,\n",
    "                                   offset=16).reshape(len(label), 28, 28)\n",
    "        else:\n",
    "            with gzip.open(paths[2], 'rb') as lbpath:\n",
    "                label = np.frombuffer(lbpath.read(), np.uint8, offset=8)\n",
    "\n",
    "            with gzip.open(paths[3], 'rb') as imgpath:\n",
    "                img = np.frombuffer(imgpath.read(), np.uint8,\n",
    "                                      offset=16).reshape(len(label), 28, 28)\n",
    "        return img, label"
   ]
  },
  {
   "cell_type": "code",
   "execution_count": 16,
   "metadata": {},
   "outputs": [
    {
     "name": "stdout",
     "output_type": "stream",
     "text": [
      "Data shape: torch.Size([1, 28, 28])\n",
      "Label: 5\n"
     ]
    },
    {
     "name": "stderr",
     "output_type": "stream",
     "text": [
      "/Users/Shared/anaconda3/lib/python3.9/site-packages/torchvision/transforms/functional.py:154: UserWarning: The given NumPy array is not writable, and PyTorch does not support non-writable tensors. This means writing to this tensor will result in undefined behavior. You may want to copy the array to protect its data or make it writable before converting it to a tensor. This type of warning will be suppressed for the rest of this program. (Triggered internally at /Users/runner/work/_temp/anaconda/conda-bld/pytorch_1710229037279/work/torch/csrc/utils/tensor_numpy.cpp:212.)\n",
      "  img = torch.from_numpy(pic.transpose((2, 0, 1))).contiguous()\n"
     ]
    },
    {
     "data": {
      "image/png": "[encoded data removed]",
      "text/plain": [
       "<Figure size 500x500 with 1 Axes>"
      ]
     },
     "metadata": {},
     "output_type": "display_data"
    },
    {
     "data": {
      "image/png": "[encoded data removed]",
      "text/plain": [
       "<Figure size 1200x600 with 10 Axes>"
      ]
     },
     "metadata": {},
     "output_type": "display_data"
    },
    {
     "name": "stdout",
     "output_type": "stream",
     "text": [
      "Dataset sizes:\n",
      "Training set: 60000 samples\n",
      "Test set: 10000 samples\n"
     ]
    }
   ],
   "source": [
    "\"\"\"MNIST Dataset\"\"\"\n",
    "# Create datasets\n",
    "train_dataset = MNISTDataset(\n",
    "    datadir=os.path.join(project_dir, 'data/MNIST/raw'),\n",
    "    transform=T.ToTensor(),\n",
    "    is_train=True\n",
    ")\n",
    "test_dataset = MNISTDataset(\n",
    "    datadir=os.path.join(project_dir, 'data/MNIST/raw'),\n",
    "    transform=T.ToTensor(),\n",
    "    is_train=False\n",
    ")\n",
    "\n",
    "# DataLoader\n",
    "train_loader = DataLoader(train_dataset, batch_size=32, shuffle=True, drop_last=True)\n",
    "test_loader = DataLoader(test_dataset, batch_size=10000, shuffle=False, drop_last=False)\n",
    "\n",
    "# Get a sample and display it\n",
    "data, target = train_dataset[0]\n",
    "print(f\"Data shape: {data.shape}\")\n",
    "print(f\"Label: {target}\")\n",
    "\n",
    "# Display the image\n",
    "plt.figure(figsize=(5, 5))\n",
    "plt.imshow(data.squeeze(), cmap='gray')\n",
    "plt.title(f\"MNIST Sample - Label: {target}\")\n",
    "plt.axis('off')\n",
    "plt.show()\n",
    "\n",
    "# Display multiple samples\n",
    "fig, axes = plt.subplots(2, 5, figsize=(12, 6))\n",
    "fig.suptitle(\"MNIST Dataset Samples\")\n",
    "\n",
    "for i, ax in enumerate(axes.flat):\n",
    "    data, target = train_dataset[i]\n",
    "    ax.imshow(data.squeeze(), cmap='gray')\n",
    "    ax.set_title(f\"Label: {target}\")\n",
    "    ax.axis('off')\n",
    "\n",
    "plt.tight_layout()\n",
    "plt.show()\n",
    "\n",
    "print(\"Dataset sizes:\")\n",
    "print(f\"Training set: {len(train_dataset)} samples\")\n",
    "print(f\"Test set: {len(test_dataset)} samples\")"
   ]
  },
  {
   "cell_type": "code",
   "execution_count": 17,
   "metadata": {},
   "outputs": [],
   "source": [
    "class SimpleNN(nn.Module):\n",
    "    def __init__(self):\n",
    "        super(SimpleNN, self).__init__()\n",
    "        self.flatten = nn.Flatten()\n",
    "        self.fc1 = nn.Linear(28*28, 128)\n",
    "        self.relu1 = nn.ReLU()\n",
    "        self.fc2 = nn.Linear(128, 64)\n",
    "        self.relu2 = nn.ReLU()\n",
    "        self.fc3 = nn.Linear(64, 10)\n",
    "\n",
    "    def forward(self, x):\n",
    "        x = self.flatten(x)\n",
    "        x = self.relu1(self.fc1(x))\n",
    "        x = self.relu2(self.fc2(x))\n",
    "        x = self.fc3(x)\n",
    "        return x"
   ]
  },
  {
   "cell_type": "code",
   "execution_count": 18,
   "metadata": {},
   "outputs": [],
   "source": [
    "model = SimpleNN() # 实例化模型\n",
    "loss_fn = nn.CrossEntropyLoss() # 损失函数：交叉熵损失\n",
    "opt = torch.optim.Adam(model.parameters(), lr=1e-3) # 定义优化器"
   ]
  },
  {
   "cell_type": "code",
   "execution_count": 19,
   "metadata": {},
   "outputs": [],
   "source": [
    "'''训练代码'''\n",
    "def train(epoch):\n",
    "    model.train()\n",
    "    total_loss = 0.\n",
    "    for iter, (data, target) in enumerate(train_loader):\n",
    "        opt.zero_grad()  # backward前梯度清零\n",
    "        output = model(data)\n",
    "        loss = loss_fn(output, target) # 计算损失\n",
    "        loss.backward() # 误差反向传播，计算梯度\n",
    "        opt.step() # 参数更新\n",
    "        total_loss += loss.item()\n",
    "    print(f'Train Epoch: {epoch} Loss: {total_loss/len(train_loader):.3f}')"
   ]
  },
  {
   "cell_type": "code",
   "execution_count": 20,
   "metadata": {},
   "outputs": [],
   "source": [
    "'''测试代码'''\n",
    "def test(epoch):\n",
    "    model.eval()  # Set the model to evaluation mode\n",
    "    correct = 0  # Initialize the counter for correct predictions\n",
    "    total = 0  # Initialize the counter for total samples\n",
    "\n",
    "    with torch.no_grad():  # Disable gradient computation for efficiency\n",
    "        for data, target in test_loader:\n",
    "            outputs = model(data)  # Forward pass: compute the model output\n",
    "            _, predicted = torch.max(outputs.data, 1)  # Get the class with the highest score\n",
    "            total += target.size(0)  # Increment the total number of samples\n",
    "            correct += (predicted == target).sum().item()  # Count the number of correct predictions\n",
    "\n",
    "    accuracy = 100 * correct / total  # Calculate the accuracy percentage\n",
    "    print(f'Test Epoch: {epoch} Accuracy: {accuracy:.2f}%')  # Print the test results"
   ]
  },
  {
   "cell_type": "code",
   "execution_count": 21,
   "metadata": {},
   "outputs": [
    {
     "name": "stdout",
     "output_type": "stream",
     "text": [
      "Train Epoch: 0 Loss: 0.286\n",
      "Test Epoch: 0 Accuracy: 95.31%\n",
      "Train Epoch: 1 Loss: 0.118\n",
      "Test Epoch: 1 Accuracy: 96.71%\n",
      "Train Epoch: 2 Loss: 0.080\n",
      "Test Epoch: 2 Accuracy: 97.30%\n",
      "Train Epoch: 3 Loss: 0.061\n",
      "Test Epoch: 3 Accuracy: 97.59%\n",
      "Train Epoch: 4 Loss: 0.047\n",
      "Test Epoch: 4 Accuracy: 97.79%\n"
     ]
    }
   ],
   "source": [
    "\n",
    "for epoch in range(5):\n",
    "    '''train'''\n",
    "    train(epoch)\n",
    "    '''test'''\n",
    "    test(epoch)"
   ]
  },
  {
   "cell_type": "code",
   "execution_count": null,
   "metadata": {},
   "outputs": [],
   "source": [
    "import tkinter as tk\n",
    "from PIL import Image, ImageDraw\n",
    "import numpy as np\n",
    "from torchvision import transforms\n",
    "\n",
    "def predict_digit():\n",
    "    # Convert the image to grayscale\n",
    "    img = Image.fromarray(canvas_array).convert('L')\n",
    "    \n",
    "    # Normalize the image\n",
    "    transform = transforms.Compose([\n",
    "        transforms.ToTensor(),\n",
    "        transforms.Normalize((0.1307,), (0.3081,))\n",
    "    ])\n",
    "    img_tensor = transform(img).unsqueeze(0)\n",
    "    \n",
    "    # Make prediction\n",
    "    model.eval()\n",
    "    with torch.no_grad():\n",
    "        output = model(img_tensor)\n",
    "        _, predicted = torch.max(output, 1)\n",
    "    \n",
    "    result_label.config(text=f\"Predicted digit: {predicted.item()}\")\n",
    "\n",
    "def clear_canvas():\n",
    "    canvas.delete(\"all\")\n",
    "    canvas_array.fill(0)  # Fill with black (0) instead of white (255)\n",
    "\n",
    "def paint(event):\n",
    "    # Calculate the position in the 28x28 grid\n",
    "    x = int(event.x * 28 / canvas_width)\n",
    "    y = int(event.y * 28 / canvas_height)\n",
    "    \n",
    "    # Set the pixel and its neighbors to white (255) to create a 3-pixel wide line\n",
    "    for dx in range(-1, 2):\n",
    "        for dy in range(-1, 2):\n",
    "            nx, ny = x + dx, y + dy\n",
    "            if 0 <= nx < 28 and 0 <= ny < 28:\n",
    "                canvas_array[ny, nx] = 255\n",
    "    \n",
    "    # Update the canvas display with a 3-pixel wide line\n",
    "    canvas.create_rectangle((x-1)*10, (y-1)*10, (x+2)*10, (y+2)*10, fill=\"white\", outline=\"white\")\n",
    "\n",
    "# Create main window\n",
    "root = tk.Tk()\n",
    "root.title(\"Digit Recognition\")\n",
    "\n",
    "# Create canvas\n",
    "canvas_width, canvas_height = 280, 280\n",
    "canvas = tk.Canvas(root, width=canvas_width, height=canvas_height, bg=\"black\")\n",
    "canvas.pack()\n",
    "\n",
    "# Create image array (28x28)\n",
    "canvas_array = np.zeros((28, 28), dtype=np.uint8)  # Initialize with black (0)\n",
    "\n",
    "# Bind mouse events\n",
    "canvas.bind(\"<B1-Motion>\", paint)\n",
    "\n",
    "# Create buttons and label\n",
    "clear_button = tk.Button(root, text=\"Clear\", command=clear_canvas)\n",
    "clear_button.pack()\n",
    "\n",
    "predict_button = tk.Button(root, text=\"Predict\", command=predict_digit)\n",
    "predict_button.pack()\n",
    "\n",
    "result_label = tk.Label(root, text=\"Draw a digit and click Predict\")\n",
    "result_label.pack()\n",
    "\n",
    "root.mainloop()\n"
   ]
  }
 ],
 "metadata": {
  "kernelspec": {
   "display_name": "base",
   "language": "python",
   "name": "python3"
  },
  "language_info": {
   "codemirror_mode": {
    "name": "ipython",
    "version": 3
   },
   "file_extension": ".py",
   "mimetype": "text/x-python",
   "name": "python",
   "nbconvert_exporter": "python",
   "pygments_lexer": "ipython3",
   "version": "3.9.18"
  }
 },
 "nbformat": 4,
 "nbformat_minor": 2
}
