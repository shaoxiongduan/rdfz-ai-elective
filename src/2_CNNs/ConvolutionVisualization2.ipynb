{
 "cells": [
  {
   "cell_type": "markdown",
   "metadata": {},
   "source": []
  },
  {
   "cell_type": "code",
   "execution_count": 17,
   "metadata": {},
   "outputs": [
    {
     "data": {
      "application/vnd.jupyter.widget-view+json": {
       "model_id": "1473304ff24f4accb9f2d164d8195826",
       "version_major": 2,
       "version_minor": 0
      },
      "text/plain": [
       "interactive(children=(IntSlider(value=1, description='x', max=2), IntSlider(value=1, description='y', max=2), …"
      ]
     },
     "metadata": {},
     "output_type": "display_data"
    },
    {
     "data": {
      "text/plain": [
       "<function __main__.update_plot(x, y, k00, k01, k02, k10, k11, k12, k20, k21, k22)>"
      ]
     },
     "execution_count": 17,
     "metadata": {},
     "output_type": "execute_result"
    }
   ],
   "source": [
    "import numpy as np\n",
    "import matplotlib.pyplot as plt\n",
    "from matplotlib.widgets import Slider\n",
    "from ipywidgets import interact, interactive, fixed, FloatText, GridspecLayout\n",
    "from IPython.display import display\n",
    "\n",
    "# Create a sample image (5x5 for simplicity)\n",
    "image = np.array([\n",
    "    [0, 255, 255, 255, 0],\n",
    "    [0, 255, 255, 255, 0],\n",
    "    [0, 255, 255, 255, 0],\n",
    "    [0, 255, 255, 255, 0],\n",
    "    [0, 255, 255, 255, 0]\n",
    "])\n",
    "\n",
    "def convolve(image, kernel):\n",
    "    output = np.zeros((image.shape[0] - kernel.shape[0] + 1, image.shape[1] - kernel.shape[1] + 1))\n",
    "    for y in range(output.shape[0]):\n",
    "        for x in range(output.shape[1]):\n",
    "            output[y, x] = np.sum(image[y:y+3, x:x+3] * kernel)\n",
    "    return output\n",
    "\n",
    "def update_plot(x, y, k00, k01, k02, k10, k11, k12, k20, k21, k22):\n",
    "    kernel = np.array([\n",
    "        [k00, k01, k02],\n",
    "        [k10, k11, k12],\n",
    "        [k20, k21, k22]\n",
    "    ])\n",
    "    \n",
    "    fig, (ax1, ax2, ax3) = plt.subplots(1, 3, figsize=(15, 5))\n",
    "    \n",
    "    # Plot the image in black and white\n",
    "    ax1.imshow(image, cmap='gray', vmin=0, vmax=255)\n",
    "    for i in range(image.shape[0]):\n",
    "        for j in range(image.shape[1]):\n",
    "            text_color = 'black' if image[i, j] == 255 else 'white'\n",
    "            ax1.text(j, i, str(image[i, j]), ha='center', va='center', fontweight='bold', fontsize=30, color=text_color)\n",
    "    rect = plt.Rectangle((x-0.5, y-0.5), 3, 3, fill=True, edgecolor='red', facecolor='red', alpha=0.3, linewidth=2)\n",
    "    ax1.add_patch(rect)\n",
    "    ax1.set_title('Image')\n",
    "    \n",
    "    # Plot the kernel with a more aesthetically pleasing color scheme\n",
    "    im2 = ax2.imshow(kernel, cmap='viridis', vmin=-1, vmax=1)\n",
    "    for i in range(kernel.shape[0]):\n",
    "        for j in range(kernel.shape[1]):\n",
    "            ax2.text(j, i, f\"{kernel[i, j]:.2f}\", ha='center', va='center', fontweight='bold', fontsize=30, color='white')\n",
    "    ax2.set_title('Kernel')\n",
    "    \n",
    "    # Calculate and plot the full convoluted feature map\n",
    "    output = convolve(image, kernel)\n",
    "    im3 = ax3.imshow(output, cmap='viridis', vmin=-np.max(np.abs(output)), vmax=np.max(np.abs(output)))\n",
    "    for i in range(output.shape[0]):\n",
    "        for j in range(output.shape[1]):\n",
    "            ax3.text(j, i, f\"{output[i, j]:.2f}\", ha='center', va='center', fontweight='bold', fontsize=30, color='white')\n",
    "    rect = plt.Rectangle((x-0.5, y-0.5), 1, 1, fill=True, edgecolor='red', facecolor='red', alpha=0.3, linewidth=2)\n",
    "    ax3.add_patch(rect)\n",
    "    ax3.set_title('Convoluted Feature Map')\n",
    "    \n",
    "    plt.tight_layout()\n",
    "    plt.show()\n",
    "\n",
    "# Create a 3x3 grid for kernel inputs\n",
    "kernel_grid = GridspecLayout(3, 3)\n",
    "for i in range(3):\n",
    "    for j in range(3):\n",
    "        kernel_grid[i, j] = FloatText(value=0, step=0.1, description='', layout={'width': 'auto'})\n",
    "\n",
    "# Create interactive widget\n",
    "interact(update_plot, \n",
    "         x=(0, 2), \n",
    "         y=(0, 2), \n",
    "         k00=kernel_grid[0, 0],\n",
    "         k01=kernel_grid[0, 1],\n",
    "         k02=kernel_grid[0, 2],\n",
    "         k10=kernel_grid[1, 0],\n",
    "         k11=kernel_grid[1, 1],\n",
    "         k12=kernel_grid[1, 2],\n",
    "         k20=kernel_grid[2, 0],\n",
    "         k21=kernel_grid[2, 1],\n",
    "         k22=kernel_grid[2, 2])\n"
   ]
  }
 ],
 "metadata": {
  "kernelspec": {
   "display_name": "Python 3",
   "language": "python",
   "name": "python3"
  },
  "language_info": {
   "codemirror_mode": {
    "name": "ipython",
    "version": 3
   },
   "file_extension": ".py",
   "mimetype": "text/x-python",
   "name": "python",
   "nbconvert_exporter": "python",
   "pygments_lexer": "ipython3",
   "version": "3.12.4"
  }
 },
 "nbformat": 4,
 "nbformat_minor": 2
}
